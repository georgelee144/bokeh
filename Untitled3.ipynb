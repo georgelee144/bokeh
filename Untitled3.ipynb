{
 "cells": [
  {
   "cell_type": "code",
   "execution_count": null,
   "metadata": {},
   "outputs": [],
   "source": [
    "# Perform necessary imports\n",
    "from bokeh.models import ColumnDataSource, Select\n",
    "\n",
    "# Create ColumnDataSource: source\n",
    "source = ColumnDataSource(data={\n",
    "    'x' : fertility,\n",
    "    'y' : female_literacy\n",
    "})\n",
    "\n",
    "# Create a new plot: plot\n",
    "plot = figure()\n",
    "\n",
    "# Add circles to the plot\n",
    "plot.circle('x', 'y', source=source)\n",
    "\n",
    "# Define a callback function: update_plot\n",
    "def update_plot(attr, old, new):\n",
    "    # If the new Selection is 'female_literacy', update 'y' to female_literacy\n",
    "    if new == 'female_literacy': \n",
    "        source.data = {\n",
    "            'x' : fertility,\n",
    "            'y' : female_literacy\n",
    "        }\n",
    "    # Else, update 'y' to population\n",
    "    else:\n",
    "        source.data = {\n",
    "            'x' : fertility,\n",
    "            'y' : population\n",
    "        }\n",
    "\n",
    "# Create a dropdown Select widget: select    \n",
    "select = Select(title=\"distribution\", options=['female_literacy', 'population'], value='female_literacy')\n",
    "\n",
    "# Attach the update_plot callback to the 'value' property of select\n",
    "select.on_change('value', update_plot)\n",
    "\n",
    "# Create layout and add to current document\n",
    "layout = row(select, plot)\n",
    "curdoc().add_root(layout)"
   ]
  }
 ],
 "metadata": {
  "kernelspec": {
   "display_name": "Python 3",
   "language": "python",
   "name": "python3"
  },
  "language_info": {
   "codemirror_mode": {
    "name": "ipython",
    "version": 3
   },
   "file_extension": ".py",
   "mimetype": "text/x-python",
   "name": "python",
   "nbconvert_exporter": "python",
   "pygments_lexer": "ipython3",
   "version": "3.7.3"
  }
 },
 "nbformat": 4,
 "nbformat_minor": 2
}
